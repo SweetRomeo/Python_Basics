{
 "cells": [
  {
   "cell_type": "code",
   "execution_count": 1,
   "id": "b9984684-5ad0-4179-b84f-10f8ad63b50a",
   "metadata": {},
   "outputs": [],
   "source": [
    "x = 8"
   ]
  },
  {
   "cell_type": "code",
   "execution_count": 3,
   "id": "04ee22f9-c761-4aad-9e8b-504a15c5f350",
   "metadata": {},
   "outputs": [
    {
     "data": {
      "text/plain": [
       "8"
      ]
     },
     "execution_count": 3,
     "metadata": {},
     "output_type": "execute_result"
    }
   ],
   "source": [
    "x"
   ]
  },
  {
   "cell_type": "code",
   "execution_count": 5,
   "id": "6cbbe17f-9643-4935-b8dd-2d958a63f760",
   "metadata": {},
   "outputs": [],
   "source": [
    "numberOfDevices = 12"
   ]
  },
  {
   "cell_type": "code",
   "execution_count": 11,
   "id": "db69d5e9-f658-4896-a5b5-887c794adb6d",
   "metadata": {},
   "outputs": [],
   "source": [
    "#string examples"
   ]
  },
  {
   "cell_type": "code",
   "execution_count": 7,
   "id": "d4af1e38-fbfd-4289-a175-078a47551b75",
   "metadata": {},
   "outputs": [
    {
     "data": {
      "text/plain": [
       "'berke'"
      ]
     },
     "execution_count": 7,
     "metadata": {},
     "output_type": "execute_result"
    }
   ],
   "source": [
    "\"berke\""
   ]
  },
  {
   "cell_type": "code",
   "execution_count": 9,
   "id": "bcc1591c-707e-45d0-8e2b-5ba0f06d2ad4",
   "metadata": {},
   "outputs": [
    {
     "data": {
      "text/plain": [
       "'sertel'"
      ]
     },
     "execution_count": 9,
     "metadata": {},
     "output_type": "execute_result"
    }
   ],
   "source": [
    "'sertel'"
   ]
  },
  {
   "cell_type": "code",
   "execution_count": 13,
   "id": "1e7429c6-58db-482c-8345-363b3ffb77a7",
   "metadata": {},
   "outputs": [
    {
     "data": {
      "text/plain": [
       "\"I can't go\""
      ]
     },
     "execution_count": 13,
     "metadata": {},
     "output_type": "execute_result"
    }
   ],
   "source": [
    "\"I can't go\""
   ]
  },
  {
   "cell_type": "code",
   "execution_count": 15,
   "id": "165e7f28-138c-4bde-bc07-027ca6b48781",
   "metadata": {},
   "outputs": [],
   "source": [
    "message = \"Hello\""
   ]
  },
  {
   "cell_type": "code",
   "execution_count": 17,
   "id": "4651e940-5b82-47be-98c8-3ca28b1aa6d0",
   "metadata": {},
   "outputs": [
    {
     "name": "stdout",
     "output_type": "stream",
     "text": [
      "Hello\n"
     ]
    }
   ],
   "source": [
    "print(message)"
   ]
  },
  {
   "cell_type": "code",
   "execution_count": 19,
   "id": "89b4840c-21d9-4887-b1ed-d164b1ca0cd1",
   "metadata": {},
   "outputs": [],
   "source": [
    "num = 12\n",
    "name = 'Sam'"
   ]
  },
  {
   "cell_type": "code",
   "execution_count": 21,
   "id": "86f11771-1224-4796-86db-2062ca953716",
   "metadata": {},
   "outputs": [
    {
     "data": {
      "text/plain": [
       "'My number is 12 and my name is Sam'"
      ]
     },
     "execution_count": 21,
     "metadata": {},
     "output_type": "execute_result"
    }
   ],
   "source": [
    "'My number is {} and my name is {}'.format(num,name)"
   ]
  },
  {
   "cell_type": "code",
   "execution_count": 23,
   "id": "b226cbb8-95ee-499b-9314-796ebdfb05a9",
   "metadata": {},
   "outputs": [
    {
     "name": "stdout",
     "output_type": "stream",
     "text": [
      "My number is 12 and my name is Sam\n"
     ]
    }
   ],
   "source": [
    "print('My number is {} and my name is {}'.format(num,name))"
   ]
  },
  {
   "cell_type": "code",
   "execution_count": 25,
   "id": "b700ed1f-e58c-435d-9656-e19da34e6692",
   "metadata": {},
   "outputs": [
    {
     "name": "stdout",
     "output_type": "stream",
     "text": [
      "My number is 12 and my name is Sam\n"
     ]
    }
   ],
   "source": [
    "print('My number is {one} and my name is {two}'.format(one = num,two = name))"
   ]
  },
  {
   "cell_type": "code",
   "execution_count": 27,
   "id": "590984b5-29a6-4b31-aa0b-2547c36e3a22",
   "metadata": {},
   "outputs": [],
   "source": [
    "s = 'abcdefghijk'"
   ]
  },
  {
   "cell_type": "code",
   "execution_count": 29,
   "id": "45eccab9-54ce-47f6-8357-ba914dcd6357",
   "metadata": {},
   "outputs": [
    {
     "data": {
      "text/plain": [
       "'abcdefghijk'"
      ]
     },
     "execution_count": 29,
     "metadata": {},
     "output_type": "execute_result"
    }
   ],
   "source": [
    "s[0:]"
   ]
  },
  {
   "cell_type": "code",
   "execution_count": 31,
   "id": "1aba05f8-9078-4fd7-9570-f2f938bcf5ae",
   "metadata": {},
   "outputs": [
    {
     "data": {
      "text/plain": [
       "'cdefghijk'"
      ]
     },
     "execution_count": 31,
     "metadata": {},
     "output_type": "execute_result"
    }
   ],
   "source": [
    "s[2:]"
   ]
  },
  {
   "cell_type": "code",
   "execution_count": 33,
   "id": "3319fe0c-de85-4306-a220-94845075e9e0",
   "metadata": {},
   "outputs": [
    {
     "data": {
      "text/plain": [
       "'abc'"
      ]
     },
     "execution_count": 33,
     "metadata": {},
     "output_type": "execute_result"
    }
   ],
   "source": [
    "s[0:3]"
   ]
  },
  {
   "cell_type": "code",
   "execution_count": 35,
   "id": "5610865a-eb8a-408e-aebe-d58d0e724695",
   "metadata": {},
   "outputs": [
    {
     "data": {
      "text/plain": [
       "'abc'"
      ]
     },
     "execution_count": 35,
     "metadata": {},
     "output_type": "execute_result"
    }
   ],
   "source": [
    "s[:3]"
   ]
  },
  {
   "cell_type": "code",
   "execution_count": 37,
   "id": "7d0fb6d7-6f71-4f93-9dcf-db9b42143f87",
   "metadata": {},
   "outputs": [
    {
     "data": {
      "text/plain": [
       "'def'"
      ]
     },
     "execution_count": 37,
     "metadata": {},
     "output_type": "execute_result"
    }
   ],
   "source": [
    "s[3:6]"
   ]
  },
  {
   "cell_type": "code",
   "execution_count": 39,
   "id": "e8739dbc-d172-40ba-8d2b-f32668a6a76c",
   "metadata": {},
   "outputs": [],
   "source": [
    "my_list = ['a', 'b', 'c']"
   ]
  },
  {
   "cell_type": "code",
   "execution_count": 43,
   "id": "8793318e-bab8-4657-b4bd-f3d91493df09",
   "metadata": {},
   "outputs": [],
   "source": [
    "my_list.append('d')"
   ]
  },
  {
   "cell_type": "code",
   "execution_count": 45,
   "id": "b144666d-6b4f-43bc-b8b9-dfa18ef65fb6",
   "metadata": {},
   "outputs": [
    {
     "data": {
      "text/plain": [
       "['a', 'b', 'c', 'd']"
      ]
     },
     "execution_count": 45,
     "metadata": {},
     "output_type": "execute_result"
    }
   ],
   "source": [
    "my_list"
   ]
  },
  {
   "cell_type": "code",
   "execution_count": 47,
   "id": "da02b710-f3c5-4501-ba92-d09f26809f82",
   "metadata": {},
   "outputs": [],
   "source": [
    "nested_list = [1, 2, [3, 4]]"
   ]
  },
  {
   "cell_type": "code",
   "execution_count": 49,
   "id": "6f0a2cfa-71a2-44d1-9dfc-511d3522b09b",
   "metadata": {},
   "outputs": [
    {
     "name": "stdout",
     "output_type": "stream",
     "text": [
      "[1, 2, [3, 4]]\n"
     ]
    }
   ],
   "source": [
    "print(nested_list)"
   ]
  },
  {
   "cell_type": "code",
   "execution_count": 51,
   "id": "f7890eb3-ed50-4916-bed1-496ed19c8740",
   "metadata": {},
   "outputs": [
    {
     "data": {
      "text/plain": [
       "[3, 4]"
      ]
     },
     "execution_count": 51,
     "metadata": {},
     "output_type": "execute_result"
    }
   ],
   "source": [
    "nested_list[2]"
   ]
  },
  {
   "cell_type": "code",
   "execution_count": 53,
   "id": "2dd4281b-40b5-46c0-830c-8f135aa4eb9d",
   "metadata": {},
   "outputs": [],
   "source": [
    "dict = {'key1' : 'value', 'key2' : 12}"
   ]
  },
  {
   "cell_type": "code",
   "execution_count": 55,
   "id": "26fb30f4-d682-417e-b1b8-ea8a409d1f8a",
   "metadata": {},
   "outputs": [
    {
     "data": {
      "text/plain": [
       "'value'"
      ]
     },
     "execution_count": 55,
     "metadata": {},
     "output_type": "execute_result"
    }
   ],
   "source": [
    "dict['key1']"
   ]
  },
  {
   "cell_type": "code",
   "execution_count": 57,
   "id": "472a85d9-dfd3-4c85-96ed-5e854872189d",
   "metadata": {},
   "outputs": [
    {
     "name": "stdout",
     "output_type": "stream",
     "text": [
      "value\n"
     ]
    }
   ],
   "source": [
    "print(dict['key1'])"
   ]
  },
  {
   "cell_type": "code",
   "execution_count": 61,
   "id": "8f7e78f9-9e8e-41c5-99ce-2714984075ad",
   "metadata": {},
   "outputs": [
    {
     "name": "stdout",
     "output_type": "stream",
     "text": [
      "12\n"
     ]
    }
   ],
   "source": [
    "print(dict['key2'])"
   ]
  },
  {
   "cell_type": "code",
   "execution_count": 63,
   "id": "4bd9d119-6896-48e5-b5a5-a2a6dd078e36",
   "metadata": {},
   "outputs": [],
   "source": [
    "d = {'k1' : [1,2,3,4]}"
   ]
  },
  {
   "cell_type": "code",
   "execution_count": 65,
   "id": "16f4c799-abfa-4335-a2bb-4a138d93212a",
   "metadata": {},
   "outputs": [
    {
     "data": {
      "text/plain": [
       "2"
      ]
     },
     "execution_count": 65,
     "metadata": {},
     "output_type": "execute_result"
    }
   ],
   "source": [
    "d['k1'][1]"
   ]
  },
  {
   "cell_type": "code",
   "execution_count": 67,
   "id": "70fb8998-9edb-4866-bbe2-1f03cd11c196",
   "metadata": {},
   "outputs": [],
   "source": [
    "d = {'k1' : {'innerkey' : [1,2,3]}}"
   ]
  },
  {
   "cell_type": "code",
   "execution_count": 69,
   "id": "6547d780-349c-407f-b294-f585e2a9c7c9",
   "metadata": {},
   "outputs": [
    {
     "data": {
      "text/plain": [
       "1"
      ]
     },
     "execution_count": 69,
     "metadata": {},
     "output_type": "execute_result"
    }
   ],
   "source": [
    "d['k1']['innerkey'][0]"
   ]
  },
  {
   "cell_type": "code",
   "execution_count": 71,
   "id": "f51025f1-87ee-4c3c-9c6f-738e891e9aaf",
   "metadata": {},
   "outputs": [],
   "source": [
    "b = True"
   ]
  },
  {
   "cell_type": "code",
   "execution_count": 73,
   "id": "5112c9e8-3b67-43ba-9cec-f652fc22b28d",
   "metadata": {},
   "outputs": [
    {
     "name": "stdout",
     "output_type": "stream",
     "text": [
      "True\n"
     ]
    }
   ],
   "source": [
    "print(b)"
   ]
  },
  {
   "cell_type": "code",
   "execution_count": 75,
   "id": "e1932b51-ec51-4a4e-ba0c-41000b2be443",
   "metadata": {},
   "outputs": [],
   "source": [
    "b = False"
   ]
  },
  {
   "cell_type": "code",
   "execution_count": 77,
   "id": "e6bd11e4-3353-4d69-8603-ab439995a3bb",
   "metadata": {},
   "outputs": [],
   "source": [
    "tuple = (1,2,3)"
   ]
  },
  {
   "cell_type": "code",
   "execution_count": 79,
   "id": "cd1273f9-05b9-4649-9491-8b1d7eeeeee5",
   "metadata": {},
   "outputs": [
    {
     "ename": "TypeError",
     "evalue": "'tuple' object does not support item assignment",
     "output_type": "error",
     "traceback": [
      "\u001b[1;31m---------------------------------------------------------------------------\u001b[0m",
      "\u001b[1;31mTypeError\u001b[0m                                 Traceback (most recent call last)",
      "Cell \u001b[1;32mIn[79], line 1\u001b[0m\n\u001b[1;32m----> 1\u001b[0m \u001b[38;5;28mtuple\u001b[39m[\u001b[38;5;241m0\u001b[39m] \u001b[38;5;241m=\u001b[39m \u001b[38;5;241m5\u001b[39m\n",
      "\u001b[1;31mTypeError\u001b[0m: 'tuple' object does not support item assignment"
     ]
    }
   ],
   "source": [
    "tuple[0] = 5"
   ]
  },
  {
   "cell_type": "code",
   "execution_count": 81,
   "id": "dc58250b-303a-47c4-9078-b15a84232993",
   "metadata": {},
   "outputs": [],
   "source": [
    "#you cannot change tuples because they are immutable"
   ]
  },
  {
   "cell_type": "code",
   "execution_count": 83,
   "id": "c5b3e31d-bc86-463b-8bd3-6cbc8a725d5d",
   "metadata": {},
   "outputs": [],
   "source": [
    "set = {1,2,3,3,3,2,1,2}"
   ]
  },
  {
   "cell_type": "code",
   "execution_count": 85,
   "id": "2d7d540a-7aa1-488f-873e-a3d26f11c82d",
   "metadata": {},
   "outputs": [
    {
     "data": {
      "text/plain": [
       "{1, 2, 3}"
      ]
     },
     "execution_count": 85,
     "metadata": {},
     "output_type": "execute_result"
    }
   ],
   "source": [
    "set"
   ]
  },
  {
   "cell_type": "code",
   "execution_count": 87,
   "id": "773f5545-0455-42df-805d-3eabbc2fa594",
   "metadata": {},
   "outputs": [],
   "source": [
    "#set only has unique elements"
   ]
  },
  {
   "cell_type": "code",
   "execution_count": 91,
   "id": "0486310e-cf8a-4850-8706-be8ec1f6e431",
   "metadata": {},
   "outputs": [],
   "source": [
    "set.add(5)"
   ]
  },
  {
   "cell_type": "code",
   "execution_count": 93,
   "id": "503844f2-2e12-4fd1-ba33-4c8a9d563fd3",
   "metadata": {},
   "outputs": [
    {
     "name": "stdout",
     "output_type": "stream",
     "text": [
      "{1, 2, 3, 5}\n"
     ]
    }
   ],
   "source": [
    "print(set)"
   ]
  },
  {
   "cell_type": "code",
   "execution_count": 95,
   "id": "c3d9b27d-b690-4abb-ae81-6eadd30d602b",
   "metadata": {},
   "outputs": [],
   "source": [
    "set.add(4)"
   ]
  },
  {
   "cell_type": "code",
   "execution_count": 97,
   "id": "7a9789ba-3c8b-405c-9c35-e70192f1a4fe",
   "metadata": {},
   "outputs": [
    {
     "data": {
      "text/plain": [
       "{1, 2, 3, 4, 5}"
      ]
     },
     "execution_count": 97,
     "metadata": {},
     "output_type": "execute_result"
    }
   ],
   "source": [
    "set"
   ]
  },
  {
   "cell_type": "code",
   "execution_count": 99,
   "id": "72affcaf-347d-4b04-9b40-be95ac831148",
   "metadata": {},
   "outputs": [
    {
     "data": {
      "text/plain": [
       "False"
      ]
     },
     "execution_count": 99,
     "metadata": {},
     "output_type": "execute_result"
    }
   ],
   "source": [
    "1 > 2"
   ]
  },
  {
   "cell_type": "code",
   "execution_count": 101,
   "id": "89c1fd4d-1448-47db-8a73-69a5e7040a91",
   "metadata": {},
   "outputs": [
    {
     "data": {
      "text/plain": [
       "True"
      ]
     },
     "execution_count": 101,
     "metadata": {},
     "output_type": "execute_result"
    }
   ],
   "source": [
    "1 >= 1"
   ]
  },
  {
   "cell_type": "code",
   "execution_count": 103,
   "id": "aa61882b-9795-4414-be6b-07cba3d80ba2",
   "metadata": {},
   "outputs": [
    {
     "data": {
      "text/plain": [
       "True"
      ]
     },
     "execution_count": 103,
     "metadata": {},
     "output_type": "execute_result"
    }
   ],
   "source": [
    "0 != 4"
   ]
  },
  {
   "cell_type": "code",
   "execution_count": 105,
   "id": "d7f359f0-dd4a-4f5a-8195-02ab42268056",
   "metadata": {},
   "outputs": [
    {
     "data": {
      "text/plain": [
       "True"
      ]
     },
     "execution_count": 105,
     "metadata": {},
     "output_type": "execute_result"
    }
   ],
   "source": [
    "1 < 2 and 2 < 3"
   ]
  },
  {
   "cell_type": "code",
   "execution_count": 107,
   "id": "52f2339f-081b-4c7f-b4fb-520a678639a4",
   "metadata": {},
   "outputs": [
    {
     "data": {
      "text/plain": [
       "True"
      ]
     },
     "execution_count": 107,
     "metadata": {},
     "output_type": "execute_result"
    }
   ],
   "source": [
    "1 < 2 or 2 > 3"
   ]
  },
  {
   "cell_type": "code",
   "execution_count": 109,
   "id": "849f1e83-bf3d-4f9b-a1a8-56bbb5044d0d",
   "metadata": {},
   "outputs": [
    {
     "data": {
      "text/plain": [
       "True"
      ]
     },
     "execution_count": 109,
     "metadata": {},
     "output_type": "execute_result"
    }
   ],
   "source": [
    "True and True"
   ]
  },
  {
   "cell_type": "code",
   "execution_count": 111,
   "id": "45441b55-106a-488c-b373-7b4d70f8d782",
   "metadata": {},
   "outputs": [
    {
     "data": {
      "text/plain": [
       "False"
      ]
     },
     "execution_count": 111,
     "metadata": {},
     "output_type": "execute_result"
    }
   ],
   "source": [
    "False and True"
   ]
  },
  {
   "cell_type": "code",
   "execution_count": 113,
   "id": "90319fa0-5210-4367-a19a-477fa453d361",
   "metadata": {},
   "outputs": [
    {
     "name": "stdout",
     "output_type": "stream",
     "text": [
      "yes true\n"
     ]
    }
   ],
   "source": [
    "if 1 < 2 :\n",
    "    print('yes true')\n",
    "else :\n",
    "    print(\"No false\")"
   ]
  },
  {
   "cell_type": "code",
   "execution_count": 115,
   "id": "850a45a5-e8df-46f3-b0a6-49be344d0c4e",
   "metadata": {},
   "outputs": [
    {
     "name": "stdout",
     "output_type": "stream",
     "text": [
      "Second\n"
     ]
    }
   ],
   "source": [
    "if 1 == 2:\n",
    "    print(\"First\")\n",
    "elif 4 == 4:\n",
    "    print(\"Second\")\n",
    "else: \n",
    "    print(\"Third\")"
   ]
  },
  {
   "cell_type": "code",
   "execution_count": null,
   "id": "ce631f54-4dd0-4afd-a525-8eb4bc344eab",
   "metadata": {},
   "outputs": [],
   "source": [
    "arr = [1,2,3,4,5]"
   ]
  },
  {
   "cell_type": "code",
   "execution_count": null,
   "id": "4bb41c2b-7c6a-4b57-84f5-7eaaf490d62e",
   "metadata": {},
   "outputs": [],
   "source": [
    "for item in arr:\n",
    "    print(item)"
   ]
  },
  {
   "cell_type": "code",
   "execution_count": null,
   "id": "1f88096f-018a-4da2-b3cf-53867013db6c",
   "metadata": {},
   "outputs": [],
   "source": [
    "i = 1\n",
    "\n",
    "while i < 5:\n",
    "    print('i is : {}'.format(i))\n",
    "    i += 1"
   ]
  },
  {
   "cell_type": "code",
   "execution_count": null,
   "id": "cb801b17-a646-4354-b308-9549b5ab3906",
   "metadata": {},
   "outputs": [],
   "source": [
    "for x in range(0,5)\n",
    "    print(x)"
   ]
  },
  {
   "cell_type": "code",
   "execution_count": null,
   "id": "293eec74-9012-4ec1-9aa5-10d128c049d6",
   "metadata": {},
   "outputs": [],
   "source": [
    "list(range(10))"
   ]
  },
  {
   "cell_type": "code",
   "execution_count": null,
   "id": "fba790b5-445f-4059-b7bc-e9acdb828eb7",
   "metadata": {},
   "outputs": [],
   "source": [
    "#prints [0, 1, 2, 3, 4, 5, 6, 7, 8, 9]"
   ]
  },
  {
   "cell_type": "code",
   "execution_count": null,
   "id": "d2988e11-5462-421d-a9d6-9239ee316b70",
   "metadata": {},
   "outputs": [],
   "source": [
    "out = []"
   ]
  },
  {
   "cell_type": "code",
   "execution_count": null,
   "id": "c54c25dd-bc38-4c14-b3a4-4b70a432b641",
   "metadata": {},
   "outputs": [],
   "source": [
    "for num in x:\n",
    "    out.append(num**2)"
   ]
  },
  {
   "cell_type": "code",
   "execution_count": null,
   "id": "c43d73c4-a442-424b-bfcb-6c8b669e8a4d",
   "metadata": {},
   "outputs": [],
   "source": [
    "print(out)"
   ]
  },
  {
   "cell_type": "code",
   "execution_count": null,
   "id": "d8a1dc94-078a-4283-b947-645be5bb8542",
   "metadata": {},
   "outputs": [],
   "source": [
    "[num**2 for num in x]"
   ]
  },
  {
   "cell_type": "code",
   "execution_count": null,
   "id": "45a4757b-24fc-4b3e-8034-f9c89399e5b7",
   "metadata": {},
   "outputs": [],
   "source": [
    "out = [num**2 for num in x]"
   ]
  },
  {
   "cell_type": "code",
   "execution_count": null,
   "id": "d211cec8-2755-42f4-a343-81849391f70b",
   "metadata": {},
   "outputs": [],
   "source": [
    "out"
   ]
  },
  {
   "cell_type": "code",
   "execution_count": null,
   "id": "199bfc09-5829-4102-84e8-686b208ed444",
   "metadata": {},
   "outputs": [],
   "source": []
  }
 ],
 "metadata": {
  "kernelspec": {
   "display_name": "Python 3 (ipykernel)",
   "language": "python",
   "name": "python3"
  },
  "language_info": {
   "codemirror_mode": {
    "name": "ipython",
    "version": 3
   },
   "file_extension": ".py",
   "mimetype": "text/x-python",
   "name": "python",
   "nbconvert_exporter": "python",
   "pygments_lexer": "ipython3",
   "version": "3.12.4"
  }
 },
 "nbformat": 4,
 "nbformat_minor": 5
}
