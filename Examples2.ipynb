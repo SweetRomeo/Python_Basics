{
 "cells": [
  {
   "cell_type": "code",
   "execution_count": 9,
   "id": "830c7116-581d-4bcd-a8f1-7856e78a6f31",
   "metadata": {},
   "outputs": [],
   "source": [
    "def func(name = \"Default argument\"):\n",
    "    print(\"Hello \" + name)"
   ]
  },
  {
   "cell_type": "code",
   "execution_count": 7,
   "id": "ac16b1dc-fe13-42fd-922a-29f1ae7758d9",
   "metadata": {},
   "outputs": [
    {
     "name": "stdout",
     "output_type": "stream",
     "text": [
      "Hello Berke\n"
     ]
    }
   ],
   "source": [
    "func(\"Berke\")"
   ]
  },
  {
   "cell_type": "code",
   "execution_count": 11,
   "id": "0d5e5e91-493e-45f0-890f-2fef5bb8916a",
   "metadata": {},
   "outputs": [
    {
     "name": "stdout",
     "output_type": "stream",
     "text": [
      "Hello Kaya\n"
     ]
    }
   ],
   "source": [
    "func(\"Kaya\")"
   ]
  },
  {
   "cell_type": "code",
   "execution_count": 13,
   "id": "11f073e2-345b-438b-956a-95c8bceaba9a",
   "metadata": {},
   "outputs": [
    {
     "name": "stdout",
     "output_type": "stream",
     "text": [
      "Hello Default argument\n"
     ]
    }
   ],
   "source": [
    "func()"
   ]
  },
  {
   "cell_type": "code",
   "execution_count": 21,
   "id": "2c4262c4-2d85-4529-9c0e-9e08c4410285",
   "metadata": {},
   "outputs": [],
   "source": [
    "def square(num):\n",
    "    \"\"\"\n",
    "    Derleyici burayı görmeyecek\n",
    "    Bu fonksiyon sayının karesini alacak\n",
    "    \"\"\"\n",
    "    return num**2"
   ]
  },
  {
   "cell_type": "code",
   "execution_count": 17,
   "id": "410d20bf-926f-45ab-bf35-986a09236cd6",
   "metadata": {},
   "outputs": [],
   "source": [
    "output = square(2)"
   ]
  },
  {
   "cell_type": "code",
   "execution_count": 19,
   "id": "2df7b919-232a-4370-8bb3-69549eb19838",
   "metadata": {},
   "outputs": [
    {
     "data": {
      "text/plain": [
       "4"
      ]
     },
     "execution_count": 19,
     "metadata": {},
     "output_type": "execute_result"
    }
   ],
   "source": [
    "output"
   ]
  },
  {
   "cell_type": "code",
   "execution_count": 23,
   "id": "7fe09aad-f470-4214-b531-ef05a89c184c",
   "metadata": {},
   "outputs": [
    {
     "data": {
      "text/plain": [
       "range(0, 10)"
      ]
     },
     "execution_count": 23,
     "metadata": {},
     "output_type": "execute_result"
    }
   ],
   "source": [
    "range(0,10)"
   ]
  },
  {
   "cell_type": "code",
   "execution_count": 25,
   "id": "b2375d43-9a61-4e3e-91a0-942b599cdf27",
   "metadata": {},
   "outputs": [
    {
     "data": {
      "text/plain": [
       "range"
      ]
     },
     "execution_count": 25,
     "metadata": {},
     "output_type": "execute_result"
    }
   ],
   "source": [
    "range"
   ]
  },
  {
   "cell_type": "code",
   "execution_count": 33,
   "id": "bfc01d45-9754-427e-8f5b-45fbe78e4bb8",
   "metadata": {},
   "outputs": [
    {
     "name": "stdout",
     "output_type": "stream",
     "text": [
      "0\n",
      "1\n",
      "4\n",
      "9\n",
      "16\n",
      "25\n",
      "36\n",
      "49\n",
      "64\n",
      "81\n"
     ]
    }
   ],
   "source": [
    "for i in range(0,10):\n",
    "    print(i**2)"
   ]
  },
  {
   "cell_type": "code",
   "execution_count": 47,
   "id": "2e879faf-ec63-4b79-abf7-fc8393fdfb61",
   "metadata": {},
   "outputs": [],
   "source": [
    "def times2(var): return var * 2"
   ]
  },
  {
   "cell_type": "code",
   "execution_count": 37,
   "id": "38e4d446-d819-4b0e-86e8-ef72ef08d0f9",
   "metadata": {},
   "outputs": [],
   "source": [
    "# map()"
   ]
  },
  {
   "cell_type": "code",
   "execution_count": 39,
   "id": "a64fbffa-0894-4803-b92c-f7e91215c015",
   "metadata": {},
   "outputs": [],
   "source": [
    "seq = [1,2,3,4,5]"
   ]
  },
  {
   "cell_type": "code",
   "execution_count": 45,
   "id": "b4d8d436-b107-46a5-bd48-11ecaafce92e",
   "metadata": {},
   "outputs": [
    {
     "data": {
      "text/plain": [
       "[2, 4, 6, 8, 10]"
      ]
     },
     "execution_count": 45,
     "metadata": {},
     "output_type": "execute_result"
    }
   ],
   "source": [
    "list(map(times2,seq))"
   ]
  },
  {
   "cell_type": "code",
   "execution_count": 49,
   "id": "5099fe36-3631-46aa-b75c-c42c00db89da",
   "metadata": {},
   "outputs": [],
   "source": [
    "t = lambda var : var * 2"
   ]
  },
  {
   "cell_type": "code",
   "execution_count": 53,
   "id": "ced0797b-d936-43e0-a577-c9975fe6a8d8",
   "metadata": {},
   "outputs": [
    {
     "data": {
      "text/plain": [
       "[1, 8, 27, 64, 125]"
      ]
     },
     "execution_count": 53,
     "metadata": {},
     "output_type": "execute_result"
    }
   ],
   "source": [
    "list(map(lambda num: num **3,seq))"
   ]
  },
  {
   "cell_type": "code",
   "execution_count": 55,
   "id": "ffb7cc0f-d50e-40c4-b8bf-531d2586375c",
   "metadata": {},
   "outputs": [
    {
     "data": {
      "text/plain": [
       "[2, 4]"
      ]
     },
     "execution_count": 55,
     "metadata": {},
     "output_type": "execute_result"
    }
   ],
   "source": [
    "list(filter(lambda num: num % 2 == 0, seq))"
   ]
  },
  {
   "cell_type": "code",
   "execution_count": 57,
   "id": "515b8331-8f45-4c85-85aa-4c4e6233eb66",
   "metadata": {},
   "outputs": [],
   "source": [
    "s = \"Hello There\""
   ]
  },
  {
   "cell_type": "code",
   "execution_count": 59,
   "id": "22bfa45c-4978-415f-880c-f378b5e024df",
   "metadata": {},
   "outputs": [
    {
     "data": {
      "text/plain": [
       "'hello there'"
      ]
     },
     "execution_count": 59,
     "metadata": {},
     "output_type": "execute_result"
    }
   ],
   "source": [
    "s.lower()"
   ]
  },
  {
   "cell_type": "code",
   "execution_count": 65,
   "id": "02cffa8d-69ea-4f93-a202-63e29f98501d",
   "metadata": {},
   "outputs": [
    {
     "data": {
      "text/plain": [
       "['Hello', 'There']"
      ]
     },
     "execution_count": 65,
     "metadata": {},
     "output_type": "execute_result"
    }
   ],
   "source": [
    "s.split()"
   ]
  },
  {
   "cell_type": "code",
   "execution_count": 67,
   "id": "76d517f6-3220-4d26-a408-6d5f820475fa",
   "metadata": {},
   "outputs": [],
   "source": [
    "tweet = \"I need to go to the hospital\""
   ]
  },
  {
   "cell_type": "code",
   "execution_count": 69,
   "id": "35ed8e99-ab68-4ea0-948b-826f4b7f251e",
   "metadata": {},
   "outputs": [
    {
     "data": {
      "text/plain": [
       "['I', 'need', 'to', 'go', 'to', 'the', 'hospital']"
      ]
     },
     "execution_count": 69,
     "metadata": {},
     "output_type": "execute_result"
    }
   ],
   "source": [
    "tweet.split()"
   ]
  },
  {
   "cell_type": "code",
   "execution_count": 71,
   "id": "82c68f1c-41ae-4cf7-abf5-829cc0a996fc",
   "metadata": {},
   "outputs": [],
   "source": [
    "str = \"1, 2, 3, 4, 5\""
   ]
  },
  {
   "cell_type": "code",
   "execution_count": 73,
   "id": "bb6f0c4d-abba-4a4e-bfa3-51b66a1716bd",
   "metadata": {},
   "outputs": [
    {
     "data": {
      "text/plain": [
       "['1', ' 2', ' 3', ' 4', ' 5']"
      ]
     },
     "execution_count": 73,
     "metadata": {},
     "output_type": "execute_result"
    }
   ],
   "source": [
    "str.split(',')"
   ]
  },
  {
   "cell_type": "code",
   "execution_count": 75,
   "id": "77c7f028-954d-4b7a-97dd-3adc24977b88",
   "metadata": {},
   "outputs": [],
   "source": [
    "d = {'k1' : 1, 'k2' : 2}"
   ]
  },
  {
   "cell_type": "code",
   "execution_count": 77,
   "id": "6443a4dc-9416-42c7-9dfb-64101d4c6f26",
   "metadata": {},
   "outputs": [
    {
     "data": {
      "text/plain": [
       "{'k1': 1, 'k2': 2}"
      ]
     },
     "execution_count": 77,
     "metadata": {},
     "output_type": "execute_result"
    }
   ],
   "source": [
    "d"
   ]
  },
  {
   "cell_type": "code",
   "execution_count": 79,
   "id": "8976f088-89ea-42b4-8800-4397aad9a5f1",
   "metadata": {},
   "outputs": [
    {
     "data": {
      "text/plain": [
       "dict_keys(['k1', 'k2'])"
      ]
     },
     "execution_count": 79,
     "metadata": {},
     "output_type": "execute_result"
    }
   ],
   "source": [
    "d.keys()"
   ]
  },
  {
   "cell_type": "code",
   "execution_count": 81,
   "id": "fe8680be-1021-4171-bf02-90691e598324",
   "metadata": {},
   "outputs": [
    {
     "data": {
      "text/plain": [
       "dict_items([('k1', 1), ('k2', 2)])"
      ]
     },
     "execution_count": 81,
     "metadata": {},
     "output_type": "execute_result"
    }
   ],
   "source": [
    "d.items()"
   ]
  },
  {
   "cell_type": "code",
   "execution_count": 89,
   "id": "9f06bef2-66d6-49c1-a358-c9fe5dbecdbc",
   "metadata": {},
   "outputs": [
    {
     "data": {
      "text/plain": [
       "1"
      ]
     },
     "execution_count": 89,
     "metadata": {},
     "output_type": "execute_result"
    }
   ],
   "source": [
    "d.pop('k1')"
   ]
  },
  {
   "cell_type": "code",
   "execution_count": 91,
   "id": "cfc92f3a-7cbe-4f9e-8d68-ca16e8fab81d",
   "metadata": {},
   "outputs": [
    {
     "data": {
      "text/plain": [
       "{'k2': 2}"
      ]
     },
     "execution_count": 91,
     "metadata": {},
     "output_type": "execute_result"
    }
   ],
   "source": [
    "d"
   ]
  },
  {
   "cell_type": "code",
   "execution_count": 97,
   "id": "85f2c316-653d-4a33-be38-afad48e4b94c",
   "metadata": {},
   "outputs": [],
   "source": [
    "list = [1,2,3,4,5]"
   ]
  },
  {
   "cell_type": "code",
   "execution_count": 99,
   "id": "4bef17f6-2cc0-4547-a03d-d15a479b3fa9",
   "metadata": {},
   "outputs": [],
   "source": [
    "item = list.pop()"
   ]
  },
  {
   "cell_type": "code",
   "execution_count": 101,
   "id": "0ba6353f-61f3-478f-8841-870fdab4ec0b",
   "metadata": {},
   "outputs": [
    {
     "data": {
      "text/plain": [
       "[1, 2, 3, 4]"
      ]
     },
     "execution_count": 101,
     "metadata": {},
     "output_type": "execute_result"
    }
   ],
   "source": [
    "list"
   ]
  },
  {
   "cell_type": "code",
   "execution_count": 103,
   "id": "59a507ad-d847-41e7-b852-1fa4e40c0bba",
   "metadata": {},
   "outputs": [
    {
     "data": {
      "text/plain": [
       "5"
      ]
     },
     "execution_count": 103,
     "metadata": {},
     "output_type": "execute_result"
    }
   ],
   "source": [
    "item"
   ]
  },
  {
   "cell_type": "code",
   "execution_count": 107,
   "id": "04a4622b-7ab2-460e-868b-10ba903bbab3",
   "metadata": {},
   "outputs": [],
   "source": [
    "first = list.pop(0)"
   ]
  },
  {
   "cell_type": "code",
   "execution_count": 109,
   "id": "929d053a-b945-4c79-a375-aece6953aee0",
   "metadata": {},
   "outputs": [
    {
     "data": {
      "text/plain": [
       "[2, 3, 4]"
      ]
     },
     "execution_count": 109,
     "metadata": {},
     "output_type": "execute_result"
    }
   ],
   "source": [
    "list"
   ]
  },
  {
   "cell_type": "code",
   "execution_count": 111,
   "id": "5ff1cac6-a2b7-4bca-8e4f-56e4585e3d9b",
   "metadata": {},
   "outputs": [
    {
     "data": {
      "text/plain": [
       "False"
      ]
     },
     "execution_count": 111,
     "metadata": {},
     "output_type": "execute_result"
    }
   ],
   "source": [
    "'x' in [1,2,3]"
   ]
  },
  {
   "cell_type": "code",
   "execution_count": 113,
   "id": "e641382d-cb75-4807-b607-e41e9c852f07",
   "metadata": {},
   "outputs": [
    {
     "data": {
      "text/plain": [
       "True"
      ]
     },
     "execution_count": 113,
     "metadata": {},
     "output_type": "execute_result"
    }
   ],
   "source": [
    "'x' in ['x','y','z']"
   ]
  },
  {
   "cell_type": "code",
   "execution_count": 9,
   "id": "b0d9f3a9-d67b-4246-91ad-115f671b75cb",
   "metadata": {},
   "outputs": [],
   "source": [
    "x = [(1,2),(3,4),(5,6)]"
   ]
  },
  {
   "cell_type": "code",
   "execution_count": 11,
   "id": "e8f99cb2-3c88-4c50-a595-3db76f4a8ba4",
   "metadata": {},
   "outputs": [
    {
     "name": "stdout",
     "output_type": "stream",
     "text": [
      "(1, 2)\n",
      "(3, 4)\n",
      "(5, 6)\n"
     ]
    }
   ],
   "source": [
    "for item in x:\n",
    "    print(item)"
   ]
  },
  {
   "cell_type": "code",
   "execution_count": 13,
   "id": "f6c653b9-be82-46e3-a7eb-ca6bfb03d400",
   "metadata": {},
   "outputs": [
    {
     "name": "stdout",
     "output_type": "stream",
     "text": [
      "1\n",
      "3\n",
      "5\n"
     ]
    }
   ],
   "source": [
    "for (x,y) in x:\n",
    "    print(x)"
   ]
  },
  {
   "cell_type": "code",
   "execution_count": null,
   "id": "1756d502-b71b-41b9-b449-662676e17cf9",
   "metadata": {},
   "outputs": [],
   "source": []
  }
 ],
 "metadata": {
  "kernelspec": {
   "display_name": "Python 3 (ipykernel)",
   "language": "python",
   "name": "python3"
  },
  "language_info": {
   "codemirror_mode": {
    "name": "ipython",
    "version": 3
   },
   "file_extension": ".py",
   "mimetype": "text/x-python",
   "name": "python",
   "nbconvert_exporter": "python",
   "pygments_lexer": "ipython3",
   "version": "3.12.4"
  }
 },
 "nbformat": 4,
 "nbformat_minor": 5
}
